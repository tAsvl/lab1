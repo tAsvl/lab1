{
 "cells": [
  {
   "cell_type": "markdown",
   "metadata": {},
   "source": [
    "## Лабораторная работа №1"
   ]
  },
  {
   "cell_type": "markdown",
   "metadata": {},
   "source": [
    "Группа: ДПИ23-1<br>\n",
    "Студент: Тарасов С.В."
   ]
  },
  {
   "cell_type": "markdown",
   "metadata": {},
   "source": [
    "Замечание: при решении данных задач не подразумевается использования циклов или генераторов Python, если в задании не сказано обратного. Решение должно опираться на использования функционала библиотеки `numpy`."
   ]
  },
  {
   "cell_type": "code",
   "execution_count": 17,
   "metadata": {},
   "outputs": [],
   "source": [
    "import numpy as np"
   ]
  },
  {
   "cell_type": "markdown",
   "metadata": {},
   "source": [
    "1. Файл `minutes_n_ingredients.csv` содержит информацию об идентификаторе рецепта, времени его выполнения в минутах и количестве необходимых ингредиентов. Считайте данные из этого файла в виде массива `numpy` типа `int32`, используя `np.loadtxt`. Выведите на экран первые 5 строк массива."
   ]
  },
  {
   "cell_type": "code",
   "execution_count": 18,
   "metadata": {},
   "outputs": [
    {
     "name": "stdout",
     "output_type": "stream",
     "text": [
      "[[127244     60     16]\n",
      " [ 23891     25      7]\n",
      " [ 94746     10      6]\n",
      " [ 67660      5      6]\n",
      " [157911     60     14]]\n"
     ]
    }
   ],
   "source": [
    "file_1 = np.loadtxt('minutes_n_ingredients.csv', dtype = 'int32', skiprows = 1, delimiter = ',')\n",
    "print(file_1[:5, :])"
   ]
  },
  {
   "cell_type": "markdown",
   "metadata": {},
   "source": [
    "2. Вычислите среднее значение, минимум, максимум и медиану по каждому из столбцов, кроме первого."
   ]
  },
  {
   "cell_type": "code",
   "execution_count": 19,
   "metadata": {},
   "outputs": [
    {
     "name": "stdout",
     "output_type": "stream",
     "text": [
      "[0 1]\n",
      "[2147483647         39]\n",
      "[2.16010017e+04 9.05528000e+00]\n",
      "[40.  9.]\n"
     ]
    }
   ],
   "source": [
    "sliced = file_1[:, 1:]\n",
    "print(np.min(sliced, axis = 0))\n",
    "print(np.max(sliced, axis = 0))\n",
    "print(np.mean(sliced, axis = 0))\n",
    "print(np.median(sliced, axis = 0))"
   ]
  },
  {
   "cell_type": "markdown",
   "metadata": {},
   "source": [
    "3. Ограничьте сверху значения продолжительности выполнения рецепта значением квантиля $q_{0.75}$. "
   ]
  },
  {
   "cell_type": "code",
   "execution_count": 20,
   "metadata": {},
   "outputs": [
    {
     "name": "stdout",
     "output_type": "stream",
     "text": [
      "[60 25 10 ... 65  5 65]\n"
     ]
    }
   ],
   "source": [
    "print(np.clip(file_1[:, 1], 0, np.quantile(file_1[:, 1], 0.75, method = 'higher')))"
   ]
  },
  {
   "cell_type": "markdown",
   "metadata": {},
   "source": [
    "4. Посчитайте, для скольких рецептов указана продолжительность, равная нулю. Замените для таких строк значение в данном столбце на 1."
   ]
  },
  {
   "cell_type": "code",
   "execution_count": 21,
   "metadata": {
    "scrolled": true
   },
   "outputs": [
    {
     "name": "stdout",
     "output_type": "stream",
     "text": [
      "479\n"
     ]
    }
   ],
   "source": [
    "print(np.count_nonzero(file_1[:, 1] == 0))\n",
    "np.place(file_1, file_1 == 0, 1)"
   ]
  },
  {
   "cell_type": "markdown",
   "metadata": {},
   "source": [
    "5. Посчитайте, сколько уникальных рецептов находится в датасете."
   ]
  },
  {
   "cell_type": "code",
   "execution_count": 22,
   "metadata": {},
   "outputs": [
    {
     "data": {
      "text/plain": [
       "4183"
      ]
     },
     "execution_count": 22,
     "metadata": {},
     "output_type": "execute_result"
    }
   ],
   "source": [
    "#уникальные рецепты - это рецепты, у которых не повторяются минуты и количество ингредиентов\n",
    "len(np.unique(sliced, axis = 0))"
   ]
  },
  {
   "cell_type": "markdown",
   "metadata": {},
   "source": [
    "6. Сколько и каких различных значений кол-ва ингредиентов присутвует в рецептах из датасета?"
   ]
  },
  {
   "cell_type": "code",
   "execution_count": 23,
   "metadata": {},
   "outputs": [
    {
     "name": "stdout",
     "output_type": "stream",
     "text": [
      "[ 1  2  3  4  5  6  7  8  9 10 11 12 13 14 15 16 17 18 19 20 21 22 23 24\n",
      " 25 26 27 28 29 30 31 32 33 34 35 37 39]\n",
      "37\n"
     ]
    }
   ],
   "source": [
    "print(np.unique(file_1[:, 2], axis=0))\n",
    "print(np.unique(file_1[:, 2], axis=0).size)"
   ]
  },
  {
   "cell_type": "markdown",
   "metadata": {},
   "source": [
    "7. Создайте версию массива, содержащую информацию только о рецептах, состоящих не более чем из 5 ингредиентов."
   ]
  },
  {
   "cell_type": "code",
   "execution_count": 24,
   "metadata": {},
   "outputs": [
    {
     "name": "stdout",
     "output_type": "stream",
     "text": [
      "[[446597     15      5]\n",
      " [204134      5      3]\n",
      " [ 25623      6      4]\n",
      " ...\n",
      " [ 52088     60      5]\n",
      " [128811     15      4]\n",
      " [370915      5      4]]\n"
     ]
    }
   ],
   "source": [
    "file_2 = file_1[np.where(file_1[:, 2] <= 5)]\n",
    "print(file_2)"
   ]
  },
  {
   "cell_type": "markdown",
   "metadata": {},
   "source": [
    "8. Для каждого рецепта посчитайте, сколько в среднем ингредиентов приходится на одну минуту рецепта. Найдите максимальное значение этой величины для всего датасета"
   ]
  },
  {
   "cell_type": "code",
   "execution_count": 25,
   "metadata": {},
   "outputs": [
    {
     "name": "stdout",
     "output_type": "stream",
     "text": [
      "[0.26666667 0.28       0.6        ... 0.23076923 0.8        0.1       ]\n",
      "24.0\n"
     ]
    }
   ],
   "source": [
    "file_3 = file_1[:, 2] / file_1[:, 1]\n",
    "print(file_3)\n",
    "print(np.max(file_3))"
   ]
  },
  {
   "cell_type": "markdown",
   "metadata": {},
   "source": [
    "9. Вычислите среднее количество ингредиентов для топ-100 рецептов с наибольшей продолжительностью"
   ]
  },
  {
   "cell_type": "code",
   "execution_count": 27,
   "metadata": {},
   "outputs": [
    {
     "name": "stdout",
     "output_type": "stream",
     "text": [
      "Среднее количество ингредиентов: 7.81\n"
     ]
    }
   ],
   "source": [
    "file_1_sort = file_1[file_1[:, 1].argsort()] #сортируем рецепты по времени\n",
    "file_1_sort = np.flip(file_1_sort, 0)#переворачиваем массив, чтобы отсортировать по убыванию\n",
    "average_value = file_1_sort[::-1][:100, :] #выборка из 100 рецептов\n",
    "print(f'Среднее количество ингредиентов: {np.mean(average_value[:, 2], axis = 0)}')"
   ]
  },
  {
   "cell_type": "markdown",
   "metadata": {},
   "source": [
    "10. Выберите случайным образом и выведите информацию о 10 различных рецептах"
   ]
  },
  {
   "cell_type": "code",
   "execution_count": 28,
   "metadata": {},
   "outputs": [
    {
     "name": "stdout",
     "output_type": "stream",
     "text": [
      "[[296278    320     20]\n",
      " [152698     75      8]\n",
      " [ 86297     95     13]\n",
      " [316153     35     11]\n",
      " [ 36975     45      6]\n",
      " [288288     24      6]\n",
      " [ 74430     80     10]\n",
      " [280692     25      8]\n",
      " [316389     20      4]\n",
      " [208772     55     14]]\n"
     ]
    }
   ],
   "source": [
    "a = np.arange(file_1.shape[0])#создаем массив по максимальному значению строк\n",
    "np.random.shuffle(a)#выбор случайных значений из массива а\n",
    "row_random = file_1[a[:10]]\n",
    "print(row_random)"
   ]
  },
  {
   "cell_type": "markdown",
   "metadata": {},
   "source": [
    "11. Выведите процент рецептов, кол-во ингредиентов в которых меньше среднего."
   ]
  },
  {
   "cell_type": "code",
   "execution_count": 30,
   "metadata": {},
   "outputs": [
    {
     "name": "stdout",
     "output_type": "stream",
     "text": [
      "37.266\n"
     ]
    }
   ],
   "source": [
    "b = file_1[np.where(file_1[:, 2] < np.mean(average_value[:, 2]))].size\n",
    "c = file_1.size\n",
    "print(b * 100 / c)"
   ]
  },
  {
   "cell_type": "markdown",
   "metadata": {},
   "source": [
    "12. Назовем \"простым\" такой рецепт, длительность выполнения которого не больше 20 минут и кол-во ингредиентов в котором не больше 5. Создайте версию датасета с дополнительным столбцом, значениями которого являются 1, если рецепт простой, и 0 в противном случае."
   ]
  },
  {
   "cell_type": "code",
   "execution_count": 31,
   "metadata": {},
   "outputs": [
    {
     "name": "stdout",
     "output_type": "stream",
     "text": [
      "[[446597     15      5      1]\n",
      " [204134      5      3      1]\n",
      " [ 25623      6      4      1]\n",
      " ...\n",
      " [287943     85     15      0]\n",
      " [498432     65     15      0]\n",
      " [ 81993    140     14      0]]\n"
     ]
    }
   ],
   "source": [
    "file_1 = np.loadtxt('minutes_n_ingredients.csv', dtype = 'int32', skiprows = 1, delimiter = ',')\n",
    "f = file_1[np.where((file_1[:, 1] <= 20) & (file_1[:, 2] <= 5))]\n",
    "f2 = file_1[np.where((file_1[:, 1] > 20) & (file_1[:, 2] > 5))]\n",
    "file_4 = np.insert(f2, 3, 0, axis = 1)\n",
    "file_3 = np.insert(f, 3, 1, axis = 1)\n",
    "f3 = np.vstack([file_3,file_4])\n",
    "print(f3)"
   ]
  },
  {
   "cell_type": "markdown",
   "metadata": {},
   "source": [
    " 13. Выведите процент \"простых\" рецептов в датасете"
   ]
  },
  {
   "cell_type": "code",
   "execution_count": 32,
   "metadata": {},
   "outputs": [
    {
     "name": "stdout",
     "output_type": "stream",
     "text": [
      "14.552102376599635\n"
     ]
    }
   ],
   "source": [
    "t = f3[np.where(f3[:, 3] == 1)].size\n",
    "d = f3[np.where(f3[:, 3] == 0)].size\n",
    "print(t * 100/ d)"
   ]
  },
  {
   "cell_type": "markdown",
   "metadata": {},
   "source": [
    "14. Разделим рецепты на группы по следующему правилу. Назовем рецепты короткими, если их продолжительность составляет менее 10 минут; стандартными, если их продолжительность составляет более 10, но менее 20 минут; и длинными, если их продолжительность составляет не менее 20 минут. Создайте трехмерный массив, где нулевая ось отвечает за номер группы (короткий, стандартный или длинный рецепт), первая ось - за сам рецепт и вторая ось - за характеристики рецепта. Выберите максимальное количество рецептов из каждой группы таким образом, чтобы было возможно сформировать трехмерный массив. Выведите форму полученного массива."
   ]
  },
  {
   "cell_type": "code",
   "execution_count": 33,
   "metadata": {},
   "outputs": [
    {
     "name": "stdout",
     "output_type": "stream",
     "text": [
      "(3, 7783, 3)\n"
     ]
    }
   ],
   "source": [
    "file_1 = np.loadtxt('minutes_n_ingredients.csv', dtype = 'int32', skiprows = 1, delimiter = ',')\n",
    "\n",
    "short = file_1[np.where(file_1[:, 1] <= 10)]#создание массива коротких рецептов\n",
    "standart = file_1[np.where((file_1[:, 1] < 20) & (file_1[:, 1] > 10))]#создание массива стандартных рецептов\n",
    "long = file_1[np.where(file_1[:, 1] >= 20)]#создание массива долгих рецептов\n",
    "\n",
    "size_min = np.min(np.array([short.shape[0], long.shape[0], standart.shape[0]]))\n",
    "total = np.array([short[0:size_min,:], long[0:size_min,:], standart[0:size_min,:]])\n",
    "print(total.shape)"
   ]
  }
 ],
 "metadata": {
  "kernelspec": {
   "display_name": "Python 3 (ipykernel)",
   "language": "python",
   "name": "python3"
  },
  "language_info": {
   "codemirror_mode": {
    "name": "ipython",
    "version": 3
   },
   "file_extension": ".py",
   "mimetype": "text/x-python",
   "name": "python",
   "nbconvert_exporter": "python",
   "pygments_lexer": "ipython3",
   "version": "3.11.4"
  }
 },
 "nbformat": 4,
 "nbformat_minor": 4
}
